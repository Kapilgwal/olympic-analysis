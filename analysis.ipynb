{
 "cells": [
  {
   "cell_type": "code",
   "execution_count": 1,
   "metadata": {},
   "outputs": [],
   "source": [
    "import pandas as pd\n",
    "import numpy as np\n",
    "import matplotlib.pyplot as plt\n",
    "import seaborn as sns"
   ]
  },
  {
   "cell_type": "code",
   "execution_count": 2,
   "metadata": {},
   "outputs": [],
   "source": [
    "df = pd.read_csv('athlete_events.csv')\n",
    "df2 = pd.read_csv('noc_regions.csv')"
   ]
  },
  {
   "cell_type": "code",
   "execution_count": 3,
   "metadata": {},
   "outputs": [
    {
     "data": {
      "text/html": [
       "<div>\n",
       "<style scoped>\n",
       "    .dataframe tbody tr th:only-of-type {\n",
       "        vertical-align: middle;\n",
       "    }\n",
       "\n",
       "    .dataframe tbody tr th {\n",
       "        vertical-align: top;\n",
       "    }\n",
       "\n",
       "    .dataframe thead th {\n",
       "        text-align: right;\n",
       "    }\n",
       "</style>\n",
       "<table border=\"1\" class=\"dataframe\">\n",
       "  <thead>\n",
       "    <tr style=\"text-align: right;\">\n",
       "      <th></th>\n",
       "      <th>ID</th>\n",
       "      <th>Name</th>\n",
       "      <th>Sex</th>\n",
       "      <th>Age</th>\n",
       "      <th>Height</th>\n",
       "      <th>Weight</th>\n",
       "      <th>Team</th>\n",
       "      <th>NOC</th>\n",
       "      <th>Games</th>\n",
       "      <th>Year</th>\n",
       "      <th>Season</th>\n",
       "      <th>City</th>\n",
       "      <th>Sport</th>\n",
       "      <th>Event</th>\n",
       "      <th>Medal</th>\n",
       "    </tr>\n",
       "  </thead>\n",
       "  <tbody>\n",
       "    <tr>\n",
       "      <th>0</th>\n",
       "      <td>1</td>\n",
       "      <td>A Dijiang</td>\n",
       "      <td>M</td>\n",
       "      <td>24.0</td>\n",
       "      <td>180.0</td>\n",
       "      <td>80.0</td>\n",
       "      <td>China</td>\n",
       "      <td>CHN</td>\n",
       "      <td>1992 Summer</td>\n",
       "      <td>1992</td>\n",
       "      <td>Summer</td>\n",
       "      <td>Barcelona</td>\n",
       "      <td>Basketball</td>\n",
       "      <td>Basketball Men's Basketball</td>\n",
       "      <td>NaN</td>\n",
       "    </tr>\n",
       "    <tr>\n",
       "      <th>1</th>\n",
       "      <td>2</td>\n",
       "      <td>A Lamusi</td>\n",
       "      <td>M</td>\n",
       "      <td>23.0</td>\n",
       "      <td>170.0</td>\n",
       "      <td>60.0</td>\n",
       "      <td>China</td>\n",
       "      <td>CHN</td>\n",
       "      <td>2012 Summer</td>\n",
       "      <td>2012</td>\n",
       "      <td>Summer</td>\n",
       "      <td>London</td>\n",
       "      <td>Judo</td>\n",
       "      <td>Judo Men's Extra-Lightweight</td>\n",
       "      <td>NaN</td>\n",
       "    </tr>\n",
       "    <tr>\n",
       "      <th>2</th>\n",
       "      <td>3</td>\n",
       "      <td>Gunnar Nielsen Aaby</td>\n",
       "      <td>M</td>\n",
       "      <td>24.0</td>\n",
       "      <td>NaN</td>\n",
       "      <td>NaN</td>\n",
       "      <td>Denmark</td>\n",
       "      <td>DEN</td>\n",
       "      <td>1920 Summer</td>\n",
       "      <td>1920</td>\n",
       "      <td>Summer</td>\n",
       "      <td>Antwerpen</td>\n",
       "      <td>Football</td>\n",
       "      <td>Football Men's Football</td>\n",
       "      <td>NaN</td>\n",
       "    </tr>\n",
       "    <tr>\n",
       "      <th>3</th>\n",
       "      <td>4</td>\n",
       "      <td>Edgar Lindenau Aabye</td>\n",
       "      <td>M</td>\n",
       "      <td>34.0</td>\n",
       "      <td>NaN</td>\n",
       "      <td>NaN</td>\n",
       "      <td>Denmark/Sweden</td>\n",
       "      <td>DEN</td>\n",
       "      <td>1900 Summer</td>\n",
       "      <td>1900</td>\n",
       "      <td>Summer</td>\n",
       "      <td>Paris</td>\n",
       "      <td>Tug-Of-War</td>\n",
       "      <td>Tug-Of-War Men's Tug-Of-War</td>\n",
       "      <td>Gold</td>\n",
       "    </tr>\n",
       "    <tr>\n",
       "      <th>4</th>\n",
       "      <td>5</td>\n",
       "      <td>Christine Jacoba Aaftink</td>\n",
       "      <td>F</td>\n",
       "      <td>21.0</td>\n",
       "      <td>185.0</td>\n",
       "      <td>82.0</td>\n",
       "      <td>Netherlands</td>\n",
       "      <td>NED</td>\n",
       "      <td>1988 Winter</td>\n",
       "      <td>1988</td>\n",
       "      <td>Winter</td>\n",
       "      <td>Calgary</td>\n",
       "      <td>Speed Skating</td>\n",
       "      <td>Speed Skating Women's 500 metres</td>\n",
       "      <td>NaN</td>\n",
       "    </tr>\n",
       "    <tr>\n",
       "      <th>...</th>\n",
       "      <td>...</td>\n",
       "      <td>...</td>\n",
       "      <td>...</td>\n",
       "      <td>...</td>\n",
       "      <td>...</td>\n",
       "      <td>...</td>\n",
       "      <td>...</td>\n",
       "      <td>...</td>\n",
       "      <td>...</td>\n",
       "      <td>...</td>\n",
       "      <td>...</td>\n",
       "      <td>...</td>\n",
       "      <td>...</td>\n",
       "      <td>...</td>\n",
       "      <td>...</td>\n",
       "    </tr>\n",
       "    <tr>\n",
       "      <th>271111</th>\n",
       "      <td>135569</td>\n",
       "      <td>Andrzej ya</td>\n",
       "      <td>M</td>\n",
       "      <td>29.0</td>\n",
       "      <td>179.0</td>\n",
       "      <td>89.0</td>\n",
       "      <td>Poland-1</td>\n",
       "      <td>POL</td>\n",
       "      <td>1976 Winter</td>\n",
       "      <td>1976</td>\n",
       "      <td>Winter</td>\n",
       "      <td>Innsbruck</td>\n",
       "      <td>Luge</td>\n",
       "      <td>Luge Mixed (Men)'s Doubles</td>\n",
       "      <td>NaN</td>\n",
       "    </tr>\n",
       "    <tr>\n",
       "      <th>271112</th>\n",
       "      <td>135570</td>\n",
       "      <td>Piotr ya</td>\n",
       "      <td>M</td>\n",
       "      <td>27.0</td>\n",
       "      <td>176.0</td>\n",
       "      <td>59.0</td>\n",
       "      <td>Poland</td>\n",
       "      <td>POL</td>\n",
       "      <td>2014 Winter</td>\n",
       "      <td>2014</td>\n",
       "      <td>Winter</td>\n",
       "      <td>Sochi</td>\n",
       "      <td>Ski Jumping</td>\n",
       "      <td>Ski Jumping Men's Large Hill, Individual</td>\n",
       "      <td>NaN</td>\n",
       "    </tr>\n",
       "    <tr>\n",
       "      <th>271113</th>\n",
       "      <td>135570</td>\n",
       "      <td>Piotr ya</td>\n",
       "      <td>M</td>\n",
       "      <td>27.0</td>\n",
       "      <td>176.0</td>\n",
       "      <td>59.0</td>\n",
       "      <td>Poland</td>\n",
       "      <td>POL</td>\n",
       "      <td>2014 Winter</td>\n",
       "      <td>2014</td>\n",
       "      <td>Winter</td>\n",
       "      <td>Sochi</td>\n",
       "      <td>Ski Jumping</td>\n",
       "      <td>Ski Jumping Men's Large Hill, Team</td>\n",
       "      <td>NaN</td>\n",
       "    </tr>\n",
       "    <tr>\n",
       "      <th>271114</th>\n",
       "      <td>135571</td>\n",
       "      <td>Tomasz Ireneusz ya</td>\n",
       "      <td>M</td>\n",
       "      <td>30.0</td>\n",
       "      <td>185.0</td>\n",
       "      <td>96.0</td>\n",
       "      <td>Poland</td>\n",
       "      <td>POL</td>\n",
       "      <td>1998 Winter</td>\n",
       "      <td>1998</td>\n",
       "      <td>Winter</td>\n",
       "      <td>Nagano</td>\n",
       "      <td>Bobsleigh</td>\n",
       "      <td>Bobsleigh Men's Four</td>\n",
       "      <td>NaN</td>\n",
       "    </tr>\n",
       "    <tr>\n",
       "      <th>271115</th>\n",
       "      <td>135571</td>\n",
       "      <td>Tomasz Ireneusz ya</td>\n",
       "      <td>M</td>\n",
       "      <td>34.0</td>\n",
       "      <td>185.0</td>\n",
       "      <td>96.0</td>\n",
       "      <td>Poland</td>\n",
       "      <td>POL</td>\n",
       "      <td>2002 Winter</td>\n",
       "      <td>2002</td>\n",
       "      <td>Winter</td>\n",
       "      <td>Salt Lake City</td>\n",
       "      <td>Bobsleigh</td>\n",
       "      <td>Bobsleigh Men's Four</td>\n",
       "      <td>NaN</td>\n",
       "    </tr>\n",
       "  </tbody>\n",
       "</table>\n",
       "<p>271116 rows × 15 columns</p>\n",
       "</div>"
      ],
      "text/plain": [
       "            ID                      Name Sex   Age  Height  Weight  \\\n",
       "0            1                 A Dijiang   M  24.0   180.0    80.0   \n",
       "1            2                  A Lamusi   M  23.0   170.0    60.0   \n",
       "2            3       Gunnar Nielsen Aaby   M  24.0     NaN     NaN   \n",
       "3            4      Edgar Lindenau Aabye   M  34.0     NaN     NaN   \n",
       "4            5  Christine Jacoba Aaftink   F  21.0   185.0    82.0   \n",
       "...        ...                       ...  ..   ...     ...     ...   \n",
       "271111  135569                Andrzej ya   M  29.0   179.0    89.0   \n",
       "271112  135570                  Piotr ya   M  27.0   176.0    59.0   \n",
       "271113  135570                  Piotr ya   M  27.0   176.0    59.0   \n",
       "271114  135571        Tomasz Ireneusz ya   M  30.0   185.0    96.0   \n",
       "271115  135571        Tomasz Ireneusz ya   M  34.0   185.0    96.0   \n",
       "\n",
       "                  Team  NOC        Games  Year  Season            City  \\\n",
       "0                China  CHN  1992 Summer  1992  Summer       Barcelona   \n",
       "1                China  CHN  2012 Summer  2012  Summer          London   \n",
       "2              Denmark  DEN  1920 Summer  1920  Summer       Antwerpen   \n",
       "3       Denmark/Sweden  DEN  1900 Summer  1900  Summer           Paris   \n",
       "4          Netherlands  NED  1988 Winter  1988  Winter         Calgary   \n",
       "...                ...  ...          ...   ...     ...             ...   \n",
       "271111        Poland-1  POL  1976 Winter  1976  Winter       Innsbruck   \n",
       "271112          Poland  POL  2014 Winter  2014  Winter           Sochi   \n",
       "271113          Poland  POL  2014 Winter  2014  Winter           Sochi   \n",
       "271114          Poland  POL  1998 Winter  1998  Winter          Nagano   \n",
       "271115          Poland  POL  2002 Winter  2002  Winter  Salt Lake City   \n",
       "\n",
       "                Sport                                     Event Medal  \n",
       "0          Basketball               Basketball Men's Basketball   NaN  \n",
       "1                Judo              Judo Men's Extra-Lightweight   NaN  \n",
       "2            Football                   Football Men's Football   NaN  \n",
       "3          Tug-Of-War               Tug-Of-War Men's Tug-Of-War  Gold  \n",
       "4       Speed Skating          Speed Skating Women's 500 metres   NaN  \n",
       "...               ...                                       ...   ...  \n",
       "271111           Luge                Luge Mixed (Men)'s Doubles   NaN  \n",
       "271112    Ski Jumping  Ski Jumping Men's Large Hill, Individual   NaN  \n",
       "271113    Ski Jumping        Ski Jumping Men's Large Hill, Team   NaN  \n",
       "271114      Bobsleigh                      Bobsleigh Men's Four   NaN  \n",
       "271115      Bobsleigh                      Bobsleigh Men's Four   NaN  \n",
       "\n",
       "[271116 rows x 15 columns]"
      ]
     },
     "execution_count": 3,
     "metadata": {},
     "output_type": "execute_result"
    }
   ],
   "source": [
    "df"
   ]
  },
  {
   "cell_type": "code",
   "execution_count": 4,
   "metadata": {},
   "outputs": [
    {
     "name": "stdout",
     "output_type": "stream",
     "text": [
      "<class 'pandas.core.frame.DataFrame'>\n",
      "RangeIndex: 271116 entries, 0 to 271115\n",
      "Data columns (total 15 columns):\n",
      " #   Column  Non-Null Count   Dtype  \n",
      "---  ------  --------------   -----  \n",
      " 0   ID      271116 non-null  int64  \n",
      " 1   Name    271116 non-null  object \n",
      " 2   Sex     271116 non-null  object \n",
      " 3   Age     261642 non-null  float64\n",
      " 4   Height  210945 non-null  float64\n",
      " 5   Weight  208241 non-null  float64\n",
      " 6   Team    271116 non-null  object \n",
      " 7   NOC     271116 non-null  object \n",
      " 8   Games   271116 non-null  object \n",
      " 9   Year    271116 non-null  int64  \n",
      " 10  Season  271116 non-null  object \n",
      " 11  City    271116 non-null  object \n",
      " 12  Sport   271116 non-null  object \n",
      " 13  Event   271116 non-null  object \n",
      " 14  Medal   39783 non-null   object \n",
      "dtypes: float64(3), int64(2), object(10)\n",
      "memory usage: 31.0+ MB\n"
     ]
    }
   ],
   "source": [
    "df.info()"
   ]
  },
  {
   "cell_type": "code",
   "execution_count": 5,
   "metadata": {},
   "outputs": [
    {
     "data": {
      "text/plain": [
       "ID             0\n",
       "Name           0\n",
       "Sex            0\n",
       "Age         9474\n",
       "Height     60171\n",
       "Weight     62875\n",
       "Team           0\n",
       "NOC            0\n",
       "Games          0\n",
       "Year           0\n",
       "Season         0\n",
       "City           0\n",
       "Sport          0\n",
       "Event          0\n",
       "Medal     231333\n",
       "dtype: int64"
      ]
     },
     "execution_count": 5,
     "metadata": {},
     "output_type": "execute_result"
    }
   ],
   "source": [
    "df.isnull().sum()"
   ]
  },
  {
   "cell_type": "code",
   "execution_count": 6,
   "metadata": {},
   "outputs": [],
   "source": [
    "# df['Age'] = df['Age'].fillna(value=df['Age'].median)"
   ]
  },
  {
   "cell_type": "code",
   "execution_count": 7,
   "metadata": {},
   "outputs": [
    {
     "data": {
      "text/plain": [
       "array([24., 23., 34., 21., 25., 27., 31., 33., 18., 26., 22., 30., 32.,\n",
       "       28., 54., 20., 17., 43., 47., 29., 41., 45., 49., 53., 57., nan,\n",
       "       19., 38., 35., 16., 37., 15., 42., 46., 40., 36., 14., 39., 48.,\n",
       "       52., 44., 55., 50., 71., 63., 51., 58., 13., 60., 75., 65., 56.,\n",
       "       64., 68., 84., 12., 72., 59., 61., 70., 74., 62., 67., 69., 73.,\n",
       "       66., 11., 76., 88., 96., 80., 10., 81., 77., 97.])"
      ]
     },
     "execution_count": 7,
     "metadata": {},
     "output_type": "execute_result"
    }
   ],
   "source": [
    "df['Age'].unique()"
   ]
  },
  {
   "cell_type": "code",
   "execution_count": 8,
   "metadata": {},
   "outputs": [
    {
     "data": {
      "text/plain": [
       "ID             0\n",
       "Name           0\n",
       "Sex            0\n",
       "Age         9474\n",
       "Height     60171\n",
       "Weight     62875\n",
       "Team           0\n",
       "NOC            0\n",
       "Games          0\n",
       "Year           0\n",
       "Season         0\n",
       "City           0\n",
       "Sport          0\n",
       "Event          0\n",
       "Medal     231333\n",
       "dtype: int64"
      ]
     },
     "execution_count": 8,
     "metadata": {},
     "output_type": "execute_result"
    }
   ],
   "source": [
    "df.isnull().sum()"
   ]
  },
  {
   "cell_type": "code",
   "execution_count": 9,
   "metadata": {},
   "outputs": [
    {
     "data": {
      "text/plain": [
       "array([nan, 'Gold', 'Bronze', 'Silver'], dtype=object)"
      ]
     },
     "execution_count": 9,
     "metadata": {},
     "output_type": "execute_result"
    }
   ],
   "source": [
    "df['Medal'].unique()"
   ]
  },
  {
   "cell_type": "code",
   "execution_count": 10,
   "metadata": {},
   "outputs": [
    {
     "data": {
      "text/plain": [
       "ID             0\n",
       "Name           0\n",
       "Sex            0\n",
       "Age         9474\n",
       "Height     60171\n",
       "Weight     62875\n",
       "Team           0\n",
       "NOC            0\n",
       "Games          0\n",
       "Year           0\n",
       "Season         0\n",
       "City           0\n",
       "Sport          0\n",
       "Event          0\n",
       "Medal     231333\n",
       "dtype: int64"
      ]
     },
     "execution_count": 10,
     "metadata": {},
     "output_type": "execute_result"
    }
   ],
   "source": [
    "df.isnull().sum()"
   ]
  },
  {
   "cell_type": "code",
   "execution_count": 11,
   "metadata": {},
   "outputs": [
    {
     "data": {
      "text/plain": [
       "array([ 80.        ,  60.        ,          nan,  82.        ,\n",
       "        75.        ,  72.        ,  96.        ,  76.5       ,\n",
       "        70.        ,  55.5       ,  65.        ,  85.        ,\n",
       "        64.        , 130.        , 125.        ,  89.        ,\n",
       "        77.        ,  76.        ,  98.        ,  78.        ,\n",
       "        73.        ,  93.        ,  74.        , 106.        ,\n",
       "        58.        ,  66.        ,  71.        ,  90.        ,\n",
       "        87.        ,  49.        ,  48.        ,  83.        ,\n",
       "        86.        ,  55.        ,  67.        ,  97.        ,\n",
       "       105.        ,  43.        ,  79.        ,  51.        ,\n",
       "        88.        ,  62.        ,  53.        , 104.        ,\n",
       "        57.        ,  63.        ,  52.        ,  91.        ,\n",
       "        94.        ,  56.        ,  68.        ,  61.        ,\n",
       "        69.        ,  46.        , 100.        ,  81.        ,\n",
       "        92.        , 120.        ,  95.        ,  59.        ,\n",
       "        50.        , 117.5       ,  54.        ,  47.        ,\n",
       "       117.        ,  84.        , 102.        ,  40.        ,\n",
       "       115.        , 110.        ,  45.        ,  99.        ,\n",
       "       109.        ,  69.5       , 135.        ,  38.        ,\n",
       "        77.5       , 103.        , 163.        , 113.        ,\n",
       "        42.        ,  91.5       ,  82.5       ,  68.5       ,\n",
       "       116.        , 107.        ,  96.5       ,  83.5       ,\n",
       "        44.        , 122.        , 102.5       ,  71.5       ,\n",
       "       156.        , 150.        , 160.        ,  95.5       ,\n",
       "       101.        , 146.        , 138.        , 112.        ,\n",
       "       108.        , 140.        , 141.        ,  63.5       ,\n",
       "       114.        , 118.        ,  52.5       , 127.        ,\n",
       "        39.        ,  73.5       , 155.        ,  74.5       ,\n",
       "        32.        , 143.        , 133.        ,  70.5       ,\n",
       "       126.        ,  53.5       , 121.        ,  67.5       ,\n",
       "       111.        , 123.5       ,  41.        ,  36.        ,\n",
       "       132.        , 128.        ,  65.5       ,  98.5       ,\n",
       "       124.        ,  59.5       ,  66.5       , 127.5       ,\n",
       "        35.        , 144.        ,  58.5       , 214.        ,\n",
       "        81.5       ,  37.        , 146.5       , 116.5       ,\n",
       "       148.        , 123.        ,  89.5       , 133.5       ,\n",
       "        86.5       ,  85.5       , 101.5       , 154.        ,\n",
       "       139.        ,  57.5       , 136.        ,  54.5       ,\n",
       "       137.        , 170.        ,  30.        ,  25.        ,\n",
       "        77.33333333, 131.        ,  79.5       ,  34.        ,\n",
       "       119.        , 134.        ,  33.        , 109.5       ,\n",
       "        90.5       , 129.        , 147.        ,  56.5       ,\n",
       "        78.5       , 165.        ,  88.5       ,  62.5       ,\n",
       "        60.5       , 158.        ,  75.5       , 190.        ,\n",
       "        64.5       , 145.        , 121.5       ,  61.5       ,\n",
       "       161.        , 176.5       ,  87.5       , 100.5       ,\n",
       "       149.        , 152.        , 108.5       ,  28.        ,\n",
       "        48.5       , 138.5       ,  72.5       , 129.5       ,\n",
       "       131.5       , 167.        ,  84.5       ,  49.5       ,\n",
       "        51.5       , 112.5       , 118.5       , 142.        ,\n",
       "        80.5       , 106.5       , 107.5       ,  31.        ,\n",
       "       135.5       , 137.5       ,  93.5       ,  97.5       ,\n",
       "       103.5       , 175.        , 151.        , 198.        ,\n",
       "       178.        ,  92.5       , 180.        , 104.5       ,\n",
       "       105.5       , 122.5       , 182.        ,  74.66666667,\n",
       "       130.5       ])"
      ]
     },
     "execution_count": 11,
     "metadata": {},
     "output_type": "execute_result"
    }
   ],
   "source": [
    "df['Weight'].unique()"
   ]
  },
  {
   "cell_type": "code",
   "execution_count": 12,
   "metadata": {},
   "outputs": [
    {
     "data": {
      "text/plain": [
       "array(['Basketball', 'Judo', 'Football', 'Tug-Of-War', 'Speed Skating',\n",
       "       'Cross Country Skiing', 'Athletics', 'Ice Hockey', 'Swimming',\n",
       "       'Badminton', 'Sailing', 'Biathlon', 'Gymnastics',\n",
       "       'Art Competitions', 'Alpine Skiing', 'Handball', 'Weightlifting',\n",
       "       'Wrestling', 'Luge', 'Water Polo', 'Hockey', 'Rowing', 'Bobsleigh',\n",
       "       'Fencing', 'Equestrianism', 'Shooting', 'Boxing', 'Taekwondo',\n",
       "       'Cycling', 'Diving', 'Canoeing', 'Tennis', 'Modern Pentathlon',\n",
       "       'Figure Skating', 'Golf', 'Softball', 'Archery', 'Volleyball',\n",
       "       'Synchronized Swimming', 'Table Tennis', 'Nordic Combined',\n",
       "       'Baseball', 'Rhythmic Gymnastics', 'Freestyle Skiing',\n",
       "       'Rugby Sevens', 'Trampolining', 'Beach Volleyball', 'Triathlon',\n",
       "       'Ski Jumping', 'Curling', 'Snowboarding', 'Rugby',\n",
       "       'Short Track Speed Skating', 'Skeleton', 'Lacrosse', 'Polo',\n",
       "       'Cricket', 'Racquets', 'Motorboating', 'Military Ski Patrol',\n",
       "       'Croquet', 'Jeu De Paume', 'Roque', 'Alpinism', 'Basque Pelota',\n",
       "       'Aeronautics'], dtype=object)"
      ]
     },
     "execution_count": 12,
     "metadata": {},
     "output_type": "execute_result"
    }
   ],
   "source": [
    "df['Sport'].unique()"
   ]
  },
  {
   "cell_type": "code",
   "execution_count": 13,
   "metadata": {},
   "outputs": [],
   "source": [
    "basketball = df[df['Sport'] == 'Basketball']\n",
    "\n",
    "# len(temp),temp['Weight'].isnull().sum(),temp['Height'].isnull().sum() \n"
   ]
  },
  {
   "cell_type": "code",
   "execution_count": 14,
   "metadata": {},
   "outputs": [
    {
     "data": {
      "text/html": [
       "<div>\n",
       "<style scoped>\n",
       "    .dataframe tbody tr th:only-of-type {\n",
       "        vertical-align: middle;\n",
       "    }\n",
       "\n",
       "    .dataframe tbody tr th {\n",
       "        vertical-align: top;\n",
       "    }\n",
       "\n",
       "    .dataframe thead th {\n",
       "        text-align: right;\n",
       "    }\n",
       "</style>\n",
       "<table border=\"1\" class=\"dataframe\">\n",
       "  <thead>\n",
       "    <tr style=\"text-align: right;\">\n",
       "      <th></th>\n",
       "      <th>ID</th>\n",
       "      <th>Name</th>\n",
       "      <th>Sex</th>\n",
       "      <th>Age</th>\n",
       "      <th>Height</th>\n",
       "      <th>Weight</th>\n",
       "      <th>Team</th>\n",
       "      <th>NOC</th>\n",
       "      <th>Games</th>\n",
       "      <th>Year</th>\n",
       "      <th>Season</th>\n",
       "      <th>City</th>\n",
       "      <th>Sport</th>\n",
       "      <th>Event</th>\n",
       "      <th>Medal</th>\n",
       "    </tr>\n",
       "  </thead>\n",
       "  <tbody>\n",
       "    <tr>\n",
       "      <th>0</th>\n",
       "      <td>1</td>\n",
       "      <td>A Dijiang</td>\n",
       "      <td>M</td>\n",
       "      <td>24.0</td>\n",
       "      <td>180.0</td>\n",
       "      <td>80.0</td>\n",
       "      <td>China</td>\n",
       "      <td>CHN</td>\n",
       "      <td>1992 Summer</td>\n",
       "      <td>1992</td>\n",
       "      <td>Summer</td>\n",
       "      <td>Barcelona</td>\n",
       "      <td>Basketball</td>\n",
       "      <td>Basketball Men's Basketball</td>\n",
       "      <td>NaN</td>\n",
       "    </tr>\n",
       "    <tr>\n",
       "      <th>167</th>\n",
       "      <td>69</td>\n",
       "      <td>Tamara Abalde Daz</td>\n",
       "      <td>F</td>\n",
       "      <td>19.0</td>\n",
       "      <td>185.0</td>\n",
       "      <td>72.0</td>\n",
       "      <td>Spain</td>\n",
       "      <td>ESP</td>\n",
       "      <td>2008 Summer</td>\n",
       "      <td>2008</td>\n",
       "      <td>Summer</td>\n",
       "      <td>Beijing</td>\n",
       "      <td>Basketball</td>\n",
       "      <td>Basketball Women's Basketball</td>\n",
       "      <td>NaN</td>\n",
       "    </tr>\n",
       "    <tr>\n",
       "      <th>250</th>\n",
       "      <td>124</td>\n",
       "      <td>Youssef Mohamed Abbas</td>\n",
       "      <td>M</td>\n",
       "      <td>31.0</td>\n",
       "      <td>NaN</td>\n",
       "      <td>NaN</td>\n",
       "      <td>Egypt</td>\n",
       "      <td>EGY</td>\n",
       "      <td>1952 Summer</td>\n",
       "      <td>1952</td>\n",
       "      <td>Summer</td>\n",
       "      <td>Helsinki</td>\n",
       "      <td>Basketball</td>\n",
       "      <td>Basketball Men's Basketball</td>\n",
       "      <td>NaN</td>\n",
       "    </tr>\n",
       "    <tr>\n",
       "      <th>264</th>\n",
       "      <td>136</td>\n",
       "      <td>Alessandro Abbio</td>\n",
       "      <td>M</td>\n",
       "      <td>29.0</td>\n",
       "      <td>195.0</td>\n",
       "      <td>85.0</td>\n",
       "      <td>Italy</td>\n",
       "      <td>ITA</td>\n",
       "      <td>2000 Summer</td>\n",
       "      <td>2000</td>\n",
       "      <td>Summer</td>\n",
       "      <td>Sydney</td>\n",
       "      <td>Basketball</td>\n",
       "      <td>Basketball Men's Basketball</td>\n",
       "      <td>NaN</td>\n",
       "    </tr>\n",
       "    <tr>\n",
       "      <th>346</th>\n",
       "      <td>192</td>\n",
       "      <td>Ahmed El-Sayed Abdel Hamid Mobarak</td>\n",
       "      <td>M</td>\n",
       "      <td>25.0</td>\n",
       "      <td>189.0</td>\n",
       "      <td>85.0</td>\n",
       "      <td>Egypt</td>\n",
       "      <td>EGY</td>\n",
       "      <td>1972 Summer</td>\n",
       "      <td>1972</td>\n",
       "      <td>Summer</td>\n",
       "      <td>Munich</td>\n",
       "      <td>Basketball</td>\n",
       "      <td>Basketball Men's Basketball</td>\n",
       "      <td>NaN</td>\n",
       "    </tr>\n",
       "    <tr>\n",
       "      <th>...</th>\n",
       "      <td>...</td>\n",
       "      <td>...</td>\n",
       "      <td>...</td>\n",
       "      <td>...</td>\n",
       "      <td>...</td>\n",
       "      <td>...</td>\n",
       "      <td>...</td>\n",
       "      <td>...</td>\n",
       "      <td>...</td>\n",
       "      <td>...</td>\n",
       "      <td>...</td>\n",
       "      <td>...</td>\n",
       "      <td>...</td>\n",
       "      <td>...</td>\n",
       "      <td>...</td>\n",
       "    </tr>\n",
       "    <tr>\n",
       "      <th>270742</th>\n",
       "      <td>135401</td>\n",
       "      <td>Eurelijus ukauskas</td>\n",
       "      <td>M</td>\n",
       "      <td>30.0</td>\n",
       "      <td>218.0</td>\n",
       "      <td>115.0</td>\n",
       "      <td>Lithuania</td>\n",
       "      <td>LTU</td>\n",
       "      <td>2004 Summer</td>\n",
       "      <td>2004</td>\n",
       "      <td>Summer</td>\n",
       "      <td>Athina</td>\n",
       "      <td>Basketball</td>\n",
       "      <td>Basketball Men's Basketball</td>\n",
       "      <td>NaN</td>\n",
       "    </tr>\n",
       "    <tr>\n",
       "      <th>270743</th>\n",
       "      <td>135402</td>\n",
       "      <td>Mindaugas ukauskas</td>\n",
       "      <td>M</td>\n",
       "      <td>20.0</td>\n",
       "      <td>201.0</td>\n",
       "      <td>100.0</td>\n",
       "      <td>Lithuania</td>\n",
       "      <td>LTU</td>\n",
       "      <td>1996 Summer</td>\n",
       "      <td>1996</td>\n",
       "      <td>Summer</td>\n",
       "      <td>Atlanta</td>\n",
       "      <td>Basketball</td>\n",
       "      <td>Basketball Men's Basketball</td>\n",
       "      <td>Bronze</td>\n",
       "    </tr>\n",
       "    <tr>\n",
       "      <th>270744</th>\n",
       "      <td>135402</td>\n",
       "      <td>Mindaugas ukauskas</td>\n",
       "      <td>M</td>\n",
       "      <td>28.0</td>\n",
       "      <td>201.0</td>\n",
       "      <td>100.0</td>\n",
       "      <td>Lithuania</td>\n",
       "      <td>LTU</td>\n",
       "      <td>2004 Summer</td>\n",
       "      <td>2004</td>\n",
       "      <td>Summer</td>\n",
       "      <td>Athina</td>\n",
       "      <td>Basketball</td>\n",
       "      <td>Basketball Men's Basketball</td>\n",
       "      <td>NaN</td>\n",
       "    </tr>\n",
       "    <tr>\n",
       "      <th>271026</th>\n",
       "      <td>135530</td>\n",
       "      <td>Philip Zwiener</td>\n",
       "      <td>M</td>\n",
       "      <td>23.0</td>\n",
       "      <td>202.0</td>\n",
       "      <td>98.0</td>\n",
       "      <td>Germany</td>\n",
       "      <td>GER</td>\n",
       "      <td>2008 Summer</td>\n",
       "      <td>2008</td>\n",
       "      <td>Summer</td>\n",
       "      <td>Beijing</td>\n",
       "      <td>Basketball</td>\n",
       "      <td>Basketball Men's Basketball</td>\n",
       "      <td>NaN</td>\n",
       "    </tr>\n",
       "    <tr>\n",
       "      <th>271110</th>\n",
       "      <td>135568</td>\n",
       "      <td>Olga Igorevna Zyuzkova</td>\n",
       "      <td>F</td>\n",
       "      <td>33.0</td>\n",
       "      <td>171.0</td>\n",
       "      <td>69.0</td>\n",
       "      <td>Belarus</td>\n",
       "      <td>BLR</td>\n",
       "      <td>2016 Summer</td>\n",
       "      <td>2016</td>\n",
       "      <td>Summer</td>\n",
       "      <td>Rio de Janeiro</td>\n",
       "      <td>Basketball</td>\n",
       "      <td>Basketball Women's Basketball</td>\n",
       "      <td>NaN</td>\n",
       "    </tr>\n",
       "  </tbody>\n",
       "</table>\n",
       "<p>4536 rows × 15 columns</p>\n",
       "</div>"
      ],
      "text/plain": [
       "            ID                                Name Sex   Age  Height  Weight  \\\n",
       "0            1                           A Dijiang   M  24.0   180.0    80.0   \n",
       "167         69                   Tamara Abalde Daz   F  19.0   185.0    72.0   \n",
       "250        124               Youssef Mohamed Abbas   M  31.0     NaN     NaN   \n",
       "264        136                    Alessandro Abbio   M  29.0   195.0    85.0   \n",
       "346        192  Ahmed El-Sayed Abdel Hamid Mobarak   M  25.0   189.0    85.0   \n",
       "...        ...                                 ...  ..   ...     ...     ...   \n",
       "270742  135401                  Eurelijus ukauskas   M  30.0   218.0   115.0   \n",
       "270743  135402                  Mindaugas ukauskas   M  20.0   201.0   100.0   \n",
       "270744  135402                  Mindaugas ukauskas   M  28.0   201.0   100.0   \n",
       "271026  135530                      Philip Zwiener   M  23.0   202.0    98.0   \n",
       "271110  135568              Olga Igorevna Zyuzkova   F  33.0   171.0    69.0   \n",
       "\n",
       "             Team  NOC        Games  Year  Season            City       Sport  \\\n",
       "0           China  CHN  1992 Summer  1992  Summer       Barcelona  Basketball   \n",
       "167         Spain  ESP  2008 Summer  2008  Summer         Beijing  Basketball   \n",
       "250         Egypt  EGY  1952 Summer  1952  Summer        Helsinki  Basketball   \n",
       "264         Italy  ITA  2000 Summer  2000  Summer          Sydney  Basketball   \n",
       "346         Egypt  EGY  1972 Summer  1972  Summer          Munich  Basketball   \n",
       "...           ...  ...          ...   ...     ...             ...         ...   \n",
       "270742  Lithuania  LTU  2004 Summer  2004  Summer          Athina  Basketball   \n",
       "270743  Lithuania  LTU  1996 Summer  1996  Summer         Atlanta  Basketball   \n",
       "270744  Lithuania  LTU  2004 Summer  2004  Summer          Athina  Basketball   \n",
       "271026    Germany  GER  2008 Summer  2008  Summer         Beijing  Basketball   \n",
       "271110    Belarus  BLR  2016 Summer  2016  Summer  Rio de Janeiro  Basketball   \n",
       "\n",
       "                                Event   Medal  \n",
       "0         Basketball Men's Basketball     NaN  \n",
       "167     Basketball Women's Basketball     NaN  \n",
       "250       Basketball Men's Basketball     NaN  \n",
       "264       Basketball Men's Basketball     NaN  \n",
       "346       Basketball Men's Basketball     NaN  \n",
       "...                               ...     ...  \n",
       "270742    Basketball Men's Basketball     NaN  \n",
       "270743    Basketball Men's Basketball  Bronze  \n",
       "270744    Basketball Men's Basketball     NaN  \n",
       "271026    Basketball Men's Basketball     NaN  \n",
       "271110  Basketball Women's Basketball     NaN  \n",
       "\n",
       "[4536 rows x 15 columns]"
      ]
     },
     "execution_count": 14,
     "metadata": {},
     "output_type": "execute_result"
    }
   ],
   "source": [
    "basketball"
   ]
  },
  {
   "cell_type": "code",
   "execution_count": 15,
   "metadata": {},
   "outputs": [
    {
     "data": {
      "text/plain": [
       "array([180., 185.,  nan, 195., 189., 178., 198., 188., 202., 205., 200.,\n",
       "       208., 190., 194., 187., 170., 192., 172., 181., 176., 213., 183.,\n",
       "       168., 204., 201., 211., 210., 177., 175., 215., 207., 203., 173.,\n",
       "       184., 206., 191., 179., 193., 182., 196., 217., 174., 209., 186.,\n",
       "       221., 165., 171., 214., 218., 197., 163., 223., 167., 216., 166.,\n",
       "       169., 199., 212., 164., 162., 220., 161., 219., 226.])"
      ]
     },
     "execution_count": 15,
     "metadata": {},
     "output_type": "execute_result"
    }
   ],
   "source": [
    "basketball['Height'].unique()"
   ]
  },
  {
   "cell_type": "code",
   "execution_count": 16,
   "metadata": {},
   "outputs": [
    {
     "data": {
      "text/plain": [
       "array(['Barcelona', 'Beijing', 'Helsinki', 'Sydney', 'Munich',\n",
       "       'Los Angeles', 'Seoul', 'Montreal', 'London', 'Moskva',\n",
       "       'Rio de Janeiro', 'Roma', 'Tokyo', 'Mexico City', 'Atlanta',\n",
       "       'Athina', 'Berlin', 'Melbourne'], dtype=object)"
      ]
     },
     "execution_count": 16,
     "metadata": {},
     "output_type": "execute_result"
    }
   ],
   "source": [
    "basketball['City'].unique()"
   ]
  },
  {
   "cell_type": "code",
   "execution_count": 17,
   "metadata": {},
   "outputs": [
    {
     "data": {
      "text/plain": [
       "array([1936, 1948, 1952, 1956, 1960, 1964, 1968, 1972, 1976, 1980, 1984,\n",
       "       1988, 1992, 1996, 2000, 2004, 2008, 2012, 2016], dtype=int64)"
      ]
     },
     "execution_count": 17,
     "metadata": {},
     "output_type": "execute_result"
    }
   ],
   "source": [
    "basketball['Year'].sort_values(ascending=True).unique()"
   ]
  },
  {
   "cell_type": "code",
   "execution_count": 18,
   "metadata": {},
   "outputs": [
    {
     "data": {
      "text/plain": [
       "Medal\n",
       "Gold      365\n",
       "Silver    359\n",
       "Bronze    356\n",
       "Name: count, dtype: int64"
      ]
     },
     "execution_count": 18,
     "metadata": {},
     "output_type": "execute_result"
    }
   ],
   "source": [
    "basketball['Medal'].value_counts()"
   ]
  },
  {
   "cell_type": "code",
   "execution_count": 19,
   "metadata": {},
   "outputs": [
    {
     "data": {
      "text/plain": [
       "array(['Angola', 'Argentina', 'Australia', 'Belarus', 'Belgium', 'Brazil',\n",
       "       'Bulgaria', 'Canada', 'Central African Republic', 'Chile', 'China',\n",
       "       'Chinese Taipei', 'Congo (Kinshasa)', 'Croatia', 'Cuba',\n",
       "       'Czech Republic', 'Czechoslovakia', 'Egypt', 'Estonia', 'Finland',\n",
       "       'France', 'Germany', 'Great Britain', 'Greece', 'Hungary', 'India',\n",
       "       'Iran', 'Iraq', 'Ireland', 'Israel', 'Italy', 'Japan', 'Latvia',\n",
       "       'Lithuania', 'Mali', 'Mexico', 'Morocco', 'New Zealand', 'Nigeria',\n",
       "       'Panama', 'Peru', 'Philippines', 'Poland', 'Puerto Rico',\n",
       "       'Romania', 'Russia', 'Senegal', 'Serbia', 'Serbia and Montenegro',\n",
       "       'Singapore', 'Slovakia', 'South Korea', 'Soviet Union', 'Spain',\n",
       "       'Sweden', 'Switzerland', 'Thailand', 'Tunisia', 'Turkey',\n",
       "       'Ukraine', 'Unified Team', 'United States', 'Uruguay', 'Venezuela',\n",
       "       'West Germany', 'Yugoslavia'], dtype=object)"
      ]
     },
     "execution_count": 19,
     "metadata": {},
     "output_type": "execute_result"
    }
   ],
   "source": [
    "basketball['Team'].sort_values().unique()"
   ]
  },
  {
   "cell_type": "code",
   "execution_count": 20,
   "metadata": {},
   "outputs": [
    {
     "name": "stdout",
     "output_type": "stream",
     "text": [
      "The average ages of participation in basketball is :  25.324597701149425\n",
      "The most probable ages of participation in basketball is :  25.0\n",
      "The most common ages of participation in basketball is :  0    24.0\n",
      "Name: Age, dtype: float64\n"
     ]
    }
   ],
   "source": [
    "print(\"The average ages of participation in basketball is : \",basketball['Age'].mean())\n",
    "print(\"The most probable ages of participation in basketball is : \",basketball['Age'].median())\n",
    "print(\"The most common ages of participation in basketball is : \",basketball['Age'].mode())"
   ]
  },
  {
   "cell_type": "code",
   "execution_count": 22,
   "metadata": {},
   "outputs": [
    {
     "data": {
      "text/plain": [
       "Team           Medal\n",
       "United States  Gold     281\n",
       "Soviet Union   Gold      48\n",
       "Argentina      Gold      12\n",
       "Unified Team   Gold      12\n",
       "Yugoslavia     Gold      12\n",
       "Name: count, dtype: int64"
      ]
     },
     "execution_count": 22,
     "metadata": {},
     "output_type": "execute_result"
    }
   ],
   "source": [
    "temp = basketball[basketball['Medal'] == 'Gold']\n",
    "temp.groupby('Team')['Medal'].value_counts().sort_values(ascending=False)"
   ]
  },
  {
   "cell_type": "code",
   "execution_count": 23,
   "metadata": {},
   "outputs": [
    {
     "data": {
      "text/plain": [
       "Team                   Medal \n",
       "Soviet Union           Silver    50\n",
       "Spain                  Silver    48\n",
       "Yugoslavia             Silver    48\n",
       "France                 Silver    38\n",
       "Australia              Silver    36\n",
       "Italy                  Silver    24\n",
       "United States          Silver    24\n",
       "Brazil                 Silver    12\n",
       "Bulgaria               Silver    12\n",
       "Croatia                Silver    12\n",
       "Serbia                 Silver    12\n",
       "Serbia and Montenegro  Silver    12\n",
       "China                  Silver    11\n",
       "South Korea            Silver    11\n",
       "Canada                 Silver     9\n",
       "Name: count, dtype: int64"
      ]
     },
     "execution_count": 23,
     "metadata": {},
     "output_type": "execute_result"
    }
   ],
   "source": [
    "temp = basketball[basketball['Medal'] == 'Silver']\n",
    "temp.groupby('Team')['Medal'].value_counts().sort_values(ascending=False)"
   ]
  },
  {
   "cell_type": "code",
   "execution_count": 24,
   "metadata": {},
   "outputs": [
    {
     "data": {
      "text/plain": [
       "Team           Medal \n",
       "Soviet Union   Bronze    48\n",
       "Brazil         Bronze    46\n",
       "Russia         Bronze    36\n",
       "United States  Bronze    36\n",
       "Lithuania      Bronze    35\n",
       "Australia      Bronze    24\n",
       "Uruguay        Bronze    24\n",
       "Yugoslavia     Bronze    24\n",
       "Argentina      Bronze    12\n",
       "Bulgaria       Bronze    12\n",
       "China          Bronze    12\n",
       "Cuba           Bronze    12\n",
       "Serbia         Bronze    12\n",
       "Spain          Bronze    12\n",
       "Mexico         Bronze    11\n",
       "Name: count, dtype: int64"
      ]
     },
     "execution_count": 24,
     "metadata": {},
     "output_type": "execute_result"
    }
   ],
   "source": [
    "temp = basketball[basketball['Medal'] == 'Bronze']\n",
    "temp.groupby('Team')['Medal'].value_counts().sort_values(ascending=False)"
   ]
  },
  {
   "cell_type": "code",
   "execution_count": 38,
   "metadata": {},
   "outputs": [
    {
     "data": {
      "text/plain": [
       "Team\n",
       "United States    341\n",
       "Soviet Union     146\n",
       "Yugoslavia        84\n",
       "Australia         60\n",
       "Spain             60\n",
       "                ... \n",
       "Latvia             0\n",
       "Mali               0\n",
       "Morocco            0\n",
       "Nigeria            0\n",
       "Angola             0\n",
       "Name: Medal, Length: 66, dtype: int64"
      ]
     },
     "execution_count": 38,
     "metadata": {},
     "output_type": "execute_result"
    }
   ],
   "source": [
    "basketball.groupby('Team')['Medal'].count().sort_values(ascending=False)"
   ]
  },
  {
   "cell_type": "code",
   "execution_count": 39,
   "metadata": {},
   "outputs": [
    {
     "data": {
      "text/plain": [
       "Name\n",
       "Teresa Edwards                     5\n",
       "Diana Lurena Taurasi               4\n",
       "Sergey Aleksandrovich Belov        4\n",
       "Gennady Georgiyevich Volnov        4\n",
       "Lisa Deshawn Leslie (-Lockwood)    4\n",
       "                                  ..\n",
       "Jana Vesel                         0\n",
       "Jang Seon-Hyeong                   0\n",
       "Janusz Cegliski                    0\n",
       "Janusz Stanisaw Patrzykont         0\n",
       "va Gulys (-Beloberk)               0\n",
       "Name: Medal, Length: 3412, dtype: int64"
      ]
     },
     "execution_count": 39,
     "metadata": {},
     "output_type": "execute_result"
    }
   ],
   "source": [
    "basketball.groupby('Name')['Medal'].count().sort_values(ascending=False)"
   ]
  },
  {
   "cell_type": "code",
   "execution_count": 40,
   "metadata": {},
   "outputs": [
    {
     "data": {
      "text/plain": [
       "Name                             Medal \n",
       "Suzanne Brigit \"Sue\" Bird        Gold      4\n",
       "Tamika Devonne Catchings         Gold      4\n",
       "Diana Lurena Taurasi             Gold      4\n",
       "Teresa Edwards                   Gold      4\n",
       "Lisa Deshawn Leslie (-Lockwood)  Gold      4\n",
       "                                          ..\n",
       "James Edward Harden, Jr.         Gold      1\n",
       "James H. \"Jim\" King              Gold      1\n",
       "James Patrick \"Jim\" Walsh        Gold      1\n",
       "James Ricardo \"Jim\" Forbes       Silver    1\n",
       "milie Gomis                      Silver    1\n",
       "Name: count, Length: 939, dtype: int64"
      ]
     },
     "execution_count": 40,
     "metadata": {},
     "output_type": "execute_result"
    }
   ],
   "source": [
    "basketball.groupby('Name')['Medal'].value_counts().sort_values(ascending=False)"
   ]
  },
  {
   "cell_type": "code",
   "execution_count": 42,
   "metadata": {},
   "outputs": [
    {
     "data": {
      "text/plain": [
       "Sex\n",
       "M    687\n",
       "F    393\n",
       "Name: Medal, dtype: int64"
      ]
     },
     "execution_count": 42,
     "metadata": {},
     "output_type": "execute_result"
    }
   ],
   "source": [
    "basketball.groupby('Sex')['Medal'].count().sort_values(ascending=False)"
   ]
  },
  {
   "cell_type": "code",
   "execution_count": 43,
   "metadata": {},
   "outputs": [
    {
     "data": {
      "text/plain": [
       "Sex  Medal \n",
       "M    Gold      234\n",
       "     Silver    229\n",
       "     Bronze    224\n",
       "F    Bronze    132\n",
       "     Gold      131\n",
       "     Silver    130\n",
       "Name: count, dtype: int64"
      ]
     },
     "execution_count": 43,
     "metadata": {},
     "output_type": "execute_result"
    }
   ],
   "source": [
    "basketball.groupby('Sex')['Medal'].value_counts().sort_values(ascending=False)"
   ]
  },
  {
   "cell_type": "code",
   "execution_count": 45,
   "metadata": {},
   "outputs": [
    {
     "data": {
      "text/plain": [
       "Sex  Team                   Medal \n",
       "M    United States          Gold      186\n",
       "F    United States          Gold       95\n",
       "M    Soviet Union           Silver     50\n",
       "     Yugoslavia             Silver     36\n",
       "     Spain                  Silver     36\n",
       "F    Australia              Silver     36\n",
       "M    Soviet Union           Bronze     36\n",
       "     Lithuania              Bronze     35\n",
       "     Brazil                 Bronze     34\n",
       "     France                 Silver     26\n",
       "     Italy                  Silver     24\n",
       "F    Australia              Bronze     24\n",
       "     Russia                 Bronze     24\n",
       "     Soviet Union           Gold       24\n",
       "M    Soviet Union           Gold       24\n",
       "     United States          Bronze     24\n",
       "     Uruguay                Bronze     24\n",
       "     Yugoslavia             Gold       12\n",
       "     Argentina              Bronze     12\n",
       "                            Gold       12\n",
       "     Yugoslavia             Bronze     12\n",
       "     Cuba                   Bronze     12\n",
       "     Russia                 Bronze     12\n",
       "     Serbia                 Silver     12\n",
       "     Serbia and Montenegro  Silver     12\n",
       "     Spain                  Bronze     12\n",
       "     United States          Silver     12\n",
       "     Croatia                Silver     12\n",
       "F    Bulgaria               Bronze     12\n",
       "                            Silver     12\n",
       "     Brazil                 Bronze     12\n",
       "     China                  Bronze     12\n",
       "     France                 Silver     12\n",
       "     Serbia                 Bronze     12\n",
       "     Soviet Union           Bronze     12\n",
       "     Spain                  Silver     12\n",
       "     Unified Team           Gold       12\n",
       "     United States          Bronze     12\n",
       "                            Silver     12\n",
       "     Yugoslavia             Bronze     12\n",
       "                            Silver     12\n",
       "     Brazil                 Silver     12\n",
       "     China                  Silver     11\n",
       "     South Korea            Silver     11\n",
       "M    Mexico                 Bronze     11\n",
       "     Canada                 Silver      9\n",
       "Name: count, dtype: int64"
      ]
     },
     "execution_count": 45,
     "metadata": {},
     "output_type": "execute_result"
    }
   ],
   "source": [
    "basketball.groupby('Sex')[['Team','Medal']].value_counts().sort_values(ascending=False)"
   ]
  },
  {
   "cell_type": "code",
   "execution_count": 57,
   "metadata": {},
   "outputs": [
    {
     "data": {
      "text/plain": [
       "Sex  Age   Medal \n",
       "M    22.0  Gold      29\n",
       "     28.0  Silver    27\n",
       "     23.0  Silver    27\n",
       "     26.0  Silver    26\n",
       "     23.0  Gold      25\n",
       "                     ..\n",
       "F    34.0  Bronze     1\n",
       "     32.0  Bronze     1\n",
       "     17.0  Bronze     1\n",
       "     37.0  Gold       1\n",
       "M    37.0  Bronze     1\n",
       "Name: count, Length: 110, dtype: int64"
      ]
     },
     "execution_count": 57,
     "metadata": {},
     "output_type": "execute_result"
    }
   ],
   "source": [
    "basketball.groupby('Sex')[['Age','Medal']].value_counts().sort_values(ascending=False)"
   ]
  },
  {
   "cell_type": "code",
   "execution_count": 58,
   "metadata": {},
   "outputs": [
    {
     "data": {
      "text/plain": [
       "Sex  Age   Team           Medal \n",
       "M    22.0  United States  Gold      29\n",
       "     26.0  United States  Gold      20\n",
       "     23.0  United States  Gold      19\n",
       "     21.0  United States  Gold      18\n",
       "     24.0  United States  Gold      16\n",
       "                                    ..\n",
       "F    22.0  United States  Silver     1\n",
       "                          Bronze     1\n",
       "           Unified Team   Gold       1\n",
       "           Soviet Union   Gold       1\n",
       "M    37.0  Lithuania      Bronze     1\n",
       "Name: count, Length: 439, dtype: int64"
      ]
     },
     "execution_count": 58,
     "metadata": {},
     "output_type": "execute_result"
    }
   ],
   "source": [
    "basketball.groupby('Sex')[['Age','Team','Medal']].value_counts().sort_values(ascending=False)"
   ]
  },
  {
   "cell_type": "code",
   "execution_count": 59,
   "metadata": {},
   "outputs": [
    {
     "data": {
      "text/plain": [
       "Sex  Season  Medal \n",
       "M    Summer  Gold      234\n",
       "             Silver    229\n",
       "             Bronze    224\n",
       "F    Summer  Bronze    132\n",
       "             Gold      131\n",
       "             Silver    130\n",
       "Name: count, dtype: int64"
      ]
     },
     "execution_count": 59,
     "metadata": {},
     "output_type": "execute_result"
    }
   ],
   "source": [
    "basketball.groupby('Sex')[['Season','Medal']].value_counts().sort_values(ascending=False)"
   ]
  },
  {
   "cell_type": "code",
   "execution_count": 63,
   "metadata": {},
   "outputs": [
    {
     "data": {
      "text/plain": [
       "Sex  Team           Height  Medal \n",
       "M    United States  200.0   Gold      16\n",
       "                    198.0   Gold      15\n",
       "                    203.0   Gold      15\n",
       "F    United States  183.0   Gold      12\n",
       "M    United States  188.0   Gold      12\n",
       "                                      ..\n",
       "F    Spain          191.0   Silver     1\n",
       "                    190.0   Silver     1\n",
       "                    185.0   Silver     1\n",
       "                    181.0   Silver     1\n",
       "M    Yugoslavia     217.0   Silver     1\n",
       "Name: count, Length: 549, dtype: int64"
      ]
     },
     "execution_count": 63,
     "metadata": {},
     "output_type": "execute_result"
    }
   ],
   "source": [
    "basketball.groupby('Sex')[['Team','Height','Medal']].value_counts().sort_values(ascending=False)"
   ]
  },
  {
   "cell_type": "code",
   "execution_count": 64,
   "metadata": {},
   "outputs": [
    {
     "data": {
      "text/plain": [
       "Sex  Weight  Height  Medal \n",
       "M    102.0   203.0   Gold      6\n",
       "     86.0    190.0   Gold      6\n",
       "     92.0    198.0   Silver    5\n",
       "F    68.0    175.0   Gold      4\n",
       "M    79.0    188.0   Gold      4\n",
       "                              ..\n",
       "F    64.0    175.0   Bronze    1\n",
       "                     Gold      1\n",
       "             176.0   Silver    1\n",
       "             178.0   Silver    1\n",
       "M    140.0   210.0   Bronze    1\n",
       "Name: count, Length: 742, dtype: int64"
      ]
     },
     "execution_count": 64,
     "metadata": {},
     "output_type": "execute_result"
    }
   ],
   "source": [
    "basketball.groupby('Sex')[['Weight','Height','Medal']].value_counts().sort_values(ascending=False)"
   ]
  },
  {
   "cell_type": "code",
   "execution_count": 65,
   "metadata": {},
   "outputs": [
    {
     "data": {
      "text/plain": [
       "Medal   Team           Height\n",
       "Gold    United States  183.0     23\n",
       "                       188.0     20\n",
       "                       185.0     19\n",
       "                       193.0     18\n",
       "                       198.0     18\n",
       "                                 ..\n",
       "Bronze  United States  182.0      1\n",
       "                       178.0      1\n",
       "                       175.0      1\n",
       "                       162.0      1\n",
       "Silver  Yugoslavia     217.0      1\n",
       "Name: count, Length: 506, dtype: int64"
      ]
     },
     "execution_count": 65,
     "metadata": {},
     "output_type": "execute_result"
    }
   ],
   "source": [
    "basketball.groupby('Medal')[['Team','Height','Medal']].value_counts().sort_values(ascending=False)"
   ]
  },
  {
   "cell_type": "code",
   "execution_count": 66,
   "metadata": {},
   "outputs": [
    {
     "data": {
      "text/plain": [
       "Team           Height  Medal \n",
       "United States  183.0   Gold      23\n",
       "               188.0   Gold      20\n",
       "               185.0   Gold      19\n",
       "               193.0   Gold      18\n",
       "               198.0   Gold      18\n",
       "                                 ..\n",
       "Lithuania      200.0   Bronze     1\n",
       "               199.0   Bronze     1\n",
       "               198.0   Bronze     1\n",
       "               197.0   Bronze     1\n",
       "Yugoslavia     217.0   Silver     1\n",
       "Name: count, Length: 506, dtype: int64"
      ]
     },
     "execution_count": 66,
     "metadata": {},
     "output_type": "execute_result"
    }
   ],
   "source": [
    "basketball.groupby('Team')[['Height','Medal']].value_counts().sort_values(ascending=False)"
   ]
  },
  {
   "cell_type": "code",
   "execution_count": null,
   "metadata": {},
   "outputs": [],
   "source": [
    "basketball.groupby('Medal')[['Team','Height','Medal']].value_counts().sort_values(ascending=False)"
   ]
  },
  {
   "cell_type": "code",
   "execution_count": 74,
   "metadata": {},
   "outputs": [
    {
     "data": {
      "text/plain": [
       "Team           Medal \n",
       "United States  Gold      2474\n",
       "               Silver    1512\n",
       "               Bronze    1233\n",
       "Soviet Union   Gold      1058\n",
       "               Silver     716\n",
       "                         ... \n",
       "Togo           Bronze       1\n",
       "Nrnberg        Gold         1\n",
       "Femur-1        Gold         1\n",
       "Fantlet-7      Gold         1\n",
       "Clearwater     Bronze       1\n",
       "Name: count, Length: 783, dtype: int64"
      ]
     },
     "execution_count": 74,
     "metadata": {},
     "output_type": "execute_result"
    }
   ],
   "source": [
    "df.groupby('Team')['Medal'].value_counts().sort_values(ascending=False)"
   ]
  },
  {
   "cell_type": "code",
   "execution_count": 75,
   "metadata": {},
   "outputs": [
    {
     "data": {
      "text/plain": [
       "Team           Sport                 Medal \n",
       "United States  Swimming              Gold      645\n",
       "               Athletics             Gold      537\n",
       "                                     Silver    313\n",
       "               Basketball            Gold      281\n",
       "               Swimming              Silver    250\n",
       "                                              ... \n",
       "Estonia        Weightlifting         Gold        1\n",
       "               Cycling               Gold        1\n",
       "               Cross Country Skiing  Bronze      1\n",
       "               Boxing                Silver      1\n",
       "Italy          Snowboarding          Bronze      1\n",
       "Name: count, Length: 3574, dtype: int64"
      ]
     },
     "execution_count": 75,
     "metadata": {},
     "output_type": "execute_result"
    }
   ],
   "source": [
    "df.groupby('Team')[['Sport','Medal']].value_counts().sort_values(ascending=False)"
   ]
  },
  {
   "cell_type": "code",
   "execution_count": 76,
   "metadata": {},
   "outputs": [
    {
     "data": {
      "text/plain": [
       "Team           Sport           Sex  Medal \n",
       "United States  Athletics       M    Gold      409\n",
       "               Swimming        M    Gold      381\n",
       "                               F    Gold      264\n",
       "               Athletics       M    Silver    250\n",
       "               Basketball      M    Gold      186\n",
       "                                             ... \n",
       "Serbia         Taekwondo       F    Silver      1\n",
       "                                    Gold        1\n",
       "               Swimming        M    Silver      1\n",
       "               Shooting        M    Bronze      1\n",
       "Italy          Figure Skating  F    Bronze      1\n",
       "Name: count, Length: 4724, dtype: int64"
      ]
     },
     "execution_count": 76,
     "metadata": {},
     "output_type": "execute_result"
    }
   ],
   "source": [
    "df.groupby('Team')[['Sport','Sex','Medal']].value_counts().sort_values(ascending=False)"
   ]
  },
  {
   "cell_type": "code",
   "execution_count": 77,
   "metadata": {},
   "outputs": [
    {
     "data": {
      "text/plain": [
       "Team           Sport      Age   Sex  Medal \n",
       "United States  Athletics  22.0  M    Gold      75\n",
       "               Swimming   21.0  M    Gold      71\n",
       "               Athletics  23.0  M    Gold      54\n",
       "               Swimming   23.0  M    Gold      50\n",
       "               Athletics  21.0  M    Gold      46\n",
       "                                               ..\n",
       "Great Britain  Shooting   27.0  M    Gold       1\n",
       "                                     Silver     1\n",
       "                          29.0  M    Gold       1\n",
       "                          30.0  M    Gold       1\n",
       "Zut            Sailing    33.0  M    Silver     1\n",
       "Name: count, Length: 20985, dtype: int64"
      ]
     },
     "execution_count": 77,
     "metadata": {},
     "output_type": "execute_result"
    }
   ],
   "source": [
    "df.groupby('Team')[['Sport','Age','Sex','Medal']].value_counts().sort_values(ascending=False)"
   ]
  },
  {
   "cell_type": "code",
   "execution_count": 79,
   "metadata": {},
   "outputs": [
    {
     "data": {
      "text/plain": [
       "Team           Age   Medal \n",
       "United States  22.0  Gold      263\n",
       "               23.0  Gold      257\n",
       "               21.0  Gold      248\n",
       "               24.0  Gold      190\n",
       "               20.0  Gold      179\n",
       "                              ... \n",
       "Jamaica        19.0  Gold        1\n",
       "                     Silver      1\n",
       "               20.0  Gold        1\n",
       "               23.0  Gold        1\n",
       "Zut            33.0  Silver      1\n",
       "Name: count, Length: 6142, dtype: int64"
      ]
     },
     "execution_count": 79,
     "metadata": {},
     "output_type": "execute_result"
    }
   ],
   "source": [
    "df.groupby('Team')[['Age','Medal']].value_counts().sort_values(ascending=False)"
   ]
  },
  {
   "cell_type": "code",
   "execution_count": 83,
   "metadata": {},
   "outputs": [
    {
     "data": {
      "text/plain": [
       "Sport              Age   Medal \n",
       "Athletics          22.0  Gold      161\n",
       "                   23.0  Bronze    155\n",
       "Swimming           21.0  Gold      151\n",
       "Athletics          23.0  Silver    146\n",
       "                   25.0  Silver    140\n",
       "                                  ... \n",
       "Modern Pentathlon  32.0  Gold        1\n",
       "                   30.0  Bronze      1\n",
       "                   20.0  Silver      1\n",
       "                         Bronze      1\n",
       "Wrestling          41.0  Gold        1\n",
       "Name: count, Length: 3420, dtype: int64"
      ]
     },
     "execution_count": 83,
     "metadata": {},
     "output_type": "execute_result"
    }
   ],
   "source": [
    "df.groupby('Sport')[['Age','Medal']].value_counts().sort_values(ascending=False)"
   ]
  },
  {
   "cell_type": "code",
   "execution_count": 86,
   "metadata": {},
   "outputs": [
    {
     "data": {
      "text/plain": [
       "Age\n",
       "23.0    3395\n",
       "24.0    3289\n",
       "22.0    3159\n",
       "25.0    3124\n",
       "26.0    2924\n",
       "        ... \n",
       "81.0       0\n",
       "84.0       0\n",
       "88.0       0\n",
       "96.0       0\n",
       "97.0       0\n",
       "Name: Medal, Length: 74, dtype: int64"
      ]
     },
     "execution_count": 86,
     "metadata": {},
     "output_type": "execute_result"
    }
   ],
   "source": [
    "df.groupby('Age')['Medal'].count().sort_values(ascending=False)"
   ]
  },
  {
   "cell_type": "code",
   "execution_count": null,
   "metadata": {},
   "outputs": [],
   "source": [
    "df.groupby('Team')[['Age','Medal']].value_counts().sort_values(ascending=False)"
   ]
  },
  {
   "cell_type": "code",
   "execution_count": null,
   "metadata": {},
   "outputs": [],
   "source": [
    "df.groupby('Team')[['Age','Medal']].value_counts().sort_values(ascending=False)"
   ]
  },
  {
   "cell_type": "code",
   "execution_count": 88,
   "metadata": {},
   "outputs": [
    {
     "data": {
      "text/plain": [
       "Sport\n",
       "Athletics        3969\n",
       "Swimming         3048\n",
       "Rowing           2945\n",
       "Gymnastics       2256\n",
       "Fencing          1743\n",
       "                 ... \n",
       "Motorboating        7\n",
       "Roque               3\n",
       "Jeu De Paume        3\n",
       "Basque Pelota       2\n",
       "Aeronautics         1\n",
       "Name: Medal, Length: 66, dtype: int64"
      ]
     },
     "execution_count": 88,
     "metadata": {},
     "output_type": "execute_result"
    }
   ],
   "source": [
    "df.groupby('Sport')['Medal'].count().sort_values(ascending=False)"
   ]
  },
  {
   "cell_type": "code",
   "execution_count": 89,
   "metadata": {},
   "outputs": [
    {
     "data": {
      "text/plain": [
       "Sport            Medal   Team                \n",
       "Swimming         Gold    United States           645\n",
       "Athletics        Gold    United States           537\n",
       "                 Silver  United States           313\n",
       "Basketball       Gold    United States           281\n",
       "Swimming         Silver  United States           250\n",
       "                                                ... \n",
       "Nordic Combined  Silver  Soviet Union              1\n",
       "                         France                    1\n",
       "                 Gold    United States             1\n",
       "                         Switzerland               1\n",
       "Wrestling        Silver  United Arab Republic      1\n",
       "Name: count, Length: 3574, dtype: int64"
      ]
     },
     "execution_count": 89,
     "metadata": {},
     "output_type": "execute_result"
    }
   ],
   "source": [
    "df.groupby('Sport')[['Medal','Team']].value_counts().sort_values(ascending=False)"
   ]
  },
  {
   "cell_type": "code",
   "execution_count": null,
   "metadata": {},
   "outputs": [],
   "source": []
  }
 ],
 "metadata": {
  "kernelspec": {
   "display_name": "Python 3",
   "language": "python",
   "name": "python3"
  },
  "language_info": {
   "codemirror_mode": {
    "name": "ipython",
    "version": 3
   },
   "file_extension": ".py",
   "mimetype": "text/x-python",
   "name": "python",
   "nbconvert_exporter": "python",
   "pygments_lexer": "ipython3",
   "version": "3.12.4"
  }
 },
 "nbformat": 4,
 "nbformat_minor": 2
}
